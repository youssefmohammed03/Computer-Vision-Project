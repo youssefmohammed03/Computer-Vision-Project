{
 "cells": [
  {
   "cell_type": "code",
   "execution_count": 72,
   "metadata": {},
   "outputs": [],
   "source": [
    "import cv2\n",
    "import numpy as np"
   ]
  },
  {
   "cell_type": "code",
   "execution_count": 89,
   "metadata": {},
   "outputs": [],
   "source": [
    "def process_image(image_path):\n",
    "    # Read the image\n",
    "    img = cv2.imread(image_path)\n",
    "    \n",
    "    # Check if the image was loaded successfully\n",
    "    if img is None:\n",
    "        print(\"Error: Could not open or find the image.\")\n",
    "        return None\n",
    "\n",
    "    # Return the grayscale image\n",
    "    return gray_image\n",
    "\n",
    "image_path = 'Pic6.jpg'  ######################## Replace with your image path ########################\n",
    "gray_image = process_image(image_path)\n",
    "\n",
    "# Apply edge detection\n",
    "edge_image = apply_edge_detection(gray_image)\n",
    "    \n",
    "# Display the grayscale image using Matplotlib\n",
    "if gray_image is not None:\n",
    "    cv2.imshow('Grayscale Image', gray_image)\n",
    "    cv2.waitKey(0) \n",
    "    cv2.destroyAllWindows()  "
   ]
  },
  {
   "cell_type": "code",
   "execution_count": 90,
   "metadata": {},
   "outputs": [],
   "source": [
    "def calculate_std_dev(gray_image):\n",
    "    if gray_image is None:\n",
    "        print(\"Error: Input image is None.\")\n",
    "        return None\n",
    "\n",
    "    # Calculate the standard deviation\n",
    "    std_dev = np.std(gray_image)\n",
    "    \n",
    "    return std_dev\n",
    "\n",
    "std_dev = calculate_std_dev(gray_image)"
   ]
  },
  {
   "cell_type": "code",
   "execution_count": null,
   "metadata": {},
   "outputs": [],
   "source": [
    "def adaptive_thresholding(gray_image):\n",
    "  # Apply adaptive thresholding\n",
    "  thresh = cv2.adaptiveThreshold(gray_image, 255, cv2.ADAPTIVE_THRESH_MEAN_C, cv2.THRESH_BINARY, 11, 2)\n",
    "  \n",
    "  # Apply edge detection\n",
    "  edge_image = apply_edge_detection(gray_image)\n",
    "\n",
    "  return thresh  "
   ]
  },
  {
   "cell_type": "code",
   "execution_count": 92,
   "metadata": {},
   "outputs": [
    {
     "name": "stdout",
     "output_type": "stream",
     "text": [
      "Image has low contrast\n"
     ]
    }
   ],
   "source": [
    "# Check if the image has low contrast\n",
    "if std_dev is not None and std_dev < 10:\n",
    "  print('Image has low contrast')\n",
    "  thresh = adaptive_thresholding(gray_image)\n",
    "  \n",
    "  # Plot the thresholded image\n",
    "  cv2.imshow('Adaptive Thresholding', thresh)\n",
    "  cv2.waitKey(0) \n",
    "  cv2.destroyAllWindows()"
   ]
  },
  {
   "cell_type": "code",
   "execution_count": 103,
   "metadata": {},
   "outputs": [],
   "source": [
    "# Median Filter\n",
    "def apply_median_filter(thresh, kernel_size):\n",
    "\n",
    "    if thresh is None:\n",
    "        print(\"Error: Input image is None.\")\n",
    "        return None\n",
    "\n",
    "    # Apply median filter\n",
    "    filtered_image = cv2.medianBlur(thresh, kernel_size)\n",
    "    \n",
    "    return filtered_image\n",
    "\n",
    "filtered_image = apply_median_filter(thresh, 5)\n",
    "\n",
    "cv2.imshow('Median Filter', filtered_image)\n",
    "cv2.waitKey(0) \n",
    "cv2.destroyAllWindows()"
   ]
  }
 ],
 "metadata": {
  "kernelspec": {
   "display_name": "Python 3",
   "language": "python",
   "name": "python3"
  },
  "language_info": {
   "codemirror_mode": {
    "name": "ipython",
    "version": 3
   },
   "file_extension": ".py",
   "mimetype": "text/x-python",
   "name": "python",
   "nbconvert_exporter": "python",
   "pygments_lexer": "ipython3",
   "version": "3.13.0"
  }
 },
 "nbformat": 4,
 "nbformat_minor": 2
}
