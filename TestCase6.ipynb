{
 "cells": [
  {
   "cell_type": "code",
   "execution_count": 10,
   "metadata": {},
   "outputs": [],
   "source": [
    "import cv2\n",
    "import numpy as np\n",
    "\n",
    "def High_Brightness_Fixation(image_path):\n",
    "    # Step 1: Read the image in grayscale\n",
    "    image = cv2.imread(image_path, cv2.IMREAD_GRAYSCALE)\n",
    "    if image is None:\n",
    "        print(f\"Error: Unable to load image from path '{image_path}'.\")\n",
    "        return\n",
    "\n",
    "    # Step 2: Histogram Equalization to Enhance Contrast\n",
    "    enhanced_image = cv2.equalizeHist(image)\n",
    "\n",
    "    # Step 3: Adaptive Thresholding for Binary Segmentation\n",
    "    binary_image = cv2.adaptiveThreshold(enhanced_image, 255, cv2.ADAPTIVE_THRESH_GAUSSIAN_C,\n",
    "                                         cv2.THRESH_BINARY, 11, 2)\n",
    "\n",
    "    # Step 4: Morphological Closing to Connect Lines\n",
    "    kernel = cv2.getStructuringElement(cv2.MORPH_RECT, (3, 3))\n",
    "    morphed_image = cv2.morphologyEx(binary_image, cv2.MORPH_CLOSE, kernel)\n",
    "\n",
    "    # Step 5: Gaussian Blur for Smoothing\n",
    "    smoothed_image = cv2.GaussianBlur(morphed_image, (5, 5), 0)\n",
    "\n",
    "    # Step 6: Final Thresholding for Sharpening\n",
    "    _, fixed_barcode = cv2.threshold(smoothed_image, 128, 255, cv2.THRESH_BINARY)\n",
    "\n",
    "    # Display all images using OpenCV windows\n",
    "    cv2.imshow(\"Original Image\", image)\n",
    "    cv2.imshow(\"Enhanced Image (Histogram Equalization)\", enhanced_image)\n",
    "    cv2.imshow(\"Binary Thresholding (Adaptive)\", binary_image)\n",
    "    cv2.imshow(\"Morphological Closing\", morphed_image)\n",
    "    cv2.imshow(\"Gaussian Blur (Smoothing)\", smoothed_image)\n",
    "    cv2.imshow(\"Fixed Barcode (Final Thresholding)\", fixed_barcode)\n",
    "\n",
    "    # Wait for a key press and close all windows\n",
    "    cv2.waitKey(0)\n",
    "    cv2.destroyAllWindows()\n",
    "\n",
    "# Example usage\n",
    "image_path = 'Pic6.jpg'  # Replace with your image path\n",
    "High_Brightness_Fixation(image_path)\n"
   ]
  }
 ],
 "metadata": {
  "kernelspec": {
   "display_name": "Python 3",
   "language": "python",
   "name": "python3"
  },
  "language_info": {
   "codemirror_mode": {
    "name": "ipython",
    "version": 3
   },
   "file_extension": ".py",
   "mimetype": "text/x-python",
   "name": "python",
   "nbconvert_exporter": "python",
   "pygments_lexer": "ipython3",
   "version": "3.13.0"
  }
 },
 "nbformat": 4,
 "nbformat_minor": 2
}
