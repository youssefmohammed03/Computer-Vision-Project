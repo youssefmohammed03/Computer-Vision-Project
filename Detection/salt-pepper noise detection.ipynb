{
 "cells": [
  {
   "cell_type": "code",
   "execution_count": 10,
   "metadata": {},
   "outputs": [],
   "source": [
    "import cv2\n",
    "import numpy as np"
   ]
  },
  {
   "cell_type": "code",
   "execution_count": null,
   "metadata": {},
   "outputs": [],
   "source": [
    "def detect_salt_pepper_median_filter(image_path, diff_threshold=80):\n",
    "        image = cv2.imread(image_path, cv2.IMREAD_GRAYSCALE)\n",
    "        if image is None:\n",
    "                raise ValueError(\"Image not found or unable to load.\")\n",
    "        \n",
    "        filtered = cv2.medianBlur(image, 3)\n",
    "        \n",
    "        diff = cv2.absdiff(image, filtered)\n",
    "        \n",
    "        noisy_pixels = np.sum(diff > diff_threshold)\n",
    "        total_pixels = image.size\n",
    "        noise_ratio = noisy_pixels / total_pixels\n",
    "\n",
    "        if noise_ratio > 0.01:\n",
    "                return True\n",
    "        return False"
   ]
  },
  {
   "cell_type": "code",
   "execution_count": 12,
   "metadata": {},
   "outputs": [
    {
     "name": "stdout",
     "output_type": "stream",
     "text": [
      "7. The image has salt and pepper noise.\n"
     ]
    }
   ],
   "source": [
    "for i in range(1,12):\n",
    "    image_path = f'Test cases\\\\{i}.jpg'\n",
    "    if detect_salt_pepper_median_filter(image_path):\n",
    "        print(f\"{i}. The image has salt and pepper noise.\")"
   ]
  }
 ],
 "metadata": {
  "kernelspec": {
   "display_name": "Python 3",
   "language": "python",
   "name": "python3"
  },
  "language_info": {
   "codemirror_mode": {
    "name": "ipython",
    "version": 3
   },
   "file_extension": ".py",
   "mimetype": "text/x-python",
   "name": "python",
   "nbconvert_exporter": "python",
   "pygments_lexer": "ipython3",
   "version": "3.12.4"
  }
 },
 "nbformat": 4,
 "nbformat_minor": 2
}
