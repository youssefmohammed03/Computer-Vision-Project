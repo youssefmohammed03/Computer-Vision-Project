{
 "cells": [
  {
   "cell_type": "code",
   "execution_count": 2,
   "metadata": {},
   "outputs": [],
   "source": [
    "import cv2\n",
    "import numpy as np\n",
    "import matplotlib.pyplot as plt"
   ]
  },
  {
   "cell_type": "code",
   "execution_count": 3,
   "metadata": {},
   "outputs": [],
   "source": [
    "def detect_salt_pepper(image_path, edge_threshold=0.23, diff_threshold=67):\n",
    "\n",
    "        image = cv2.imread(image_path, cv2.IMREAD_GRAYSCALE)\n",
    "\n",
    "        if image is None:\n",
    "                raise ValueError(\"Image not found or unable to load.\")\n",
    "\n",
    "        edges = cv2.Laplacian(image, cv2.CV_64F)\n",
    "        edges = np.abs(edges)\n",
    "\n",
    "        edge_pixels = np.sum(edges > 50)\n",
    "        total_pixels = image.size\n",
    "        edge_ratio = edge_pixels / total_pixels\n",
    "\n",
    "        if edge_ratio > edge_threshold:\n",
    "                filtered = cv2.medianBlur(image, 3)\n",
    "                diff = cv2.absdiff(image, filtered)\n",
    "                \n",
    "                noisy_pixels = np.sum(diff > diff_threshold)\n",
    "                noise_ratio = noisy_pixels / total_pixels\n",
    "\n",
    "                \n",
    "                if noise_ratio > 0.01:\n",
    "                        return True\n",
    "        return False\n"
   ]
  },
  {
   "cell_type": "code",
   "execution_count": 4,
   "metadata": {},
   "outputs": [
    {
     "data": {
      "text/plain": [
       "'output\\\\7.jpg'"
      ]
     },
     "execution_count": 4,
     "metadata": {},
     "output_type": "execute_result"
    }
   ],
   "source": [
    "def remove_salt_pepper(image_path, output_path):\n",
    "    image = cv2.imread(image_path, cv2.IMREAD_GRAYSCALE)\n",
    "    if image is None:\n",
    "        raise ValueError(\"Image not found or unable to load.\")\n",
    "\n",
    "    vertical_blur = cv2.blur(image, (1, 7))\n",
    "    \n",
    "    median_blur = cv2.medianBlur(vertical_blur, 3)\n",
    "    \n",
    "    _, thresholded_image = cv2.threshold(median_blur, 0, 255, cv2.THRESH_BINARY + cv2.THRESH_OTSU)\n",
    "    \n",
    "    cv2.imwrite(output_path, thresholded_image)\n",
    "    return output_path\n",
    "\n",
    "remove_salt_pepper(\"test cases\\\\07 - mal7 w felfel.jpg\", \"output\\\\7.jpg\")"
   ]
  },
  {
   "cell_type": "code",
   "execution_count": 5,
   "metadata": {},
   "outputs": [],
   "source": [
    "def plot_images(image_path, processed_image):\n",
    "\n",
    "    original_image = cv2.imread(image_path, cv2.IMREAD_GRAYSCALE)\n",
    "    processed_image = cv2.imread(processed_image, cv2.IMREAD_GRAYSCALE)\n",
    "    \n",
    "    fig, axs = plt.subplots(1, 2, figsize=(12, 6))\n",
    "\n",
    "    axs[0].imshow(original_image, cmap='gray')\n",
    "    axs[0].set_title(\"Original Image\")\n",
    "    axs[0].axis(\"off\")\n",
    "\n",
    "    axs[1].imshow(processed_image, cmap='gray')\n",
    "    axs[1].set_title(\"Processed Image\")\n",
    "    axs[1].axis(\"off\")\n",
    "\n",
    "    plt.show()\n"
   ]
  },
  {
   "cell_type": "code",
   "execution_count": 6,
   "metadata": {},
   "outputs": [
    {
     "ename": "ValueError",
     "evalue": "Image not found or unable to load.",
     "output_type": "error",
     "traceback": [
      "\u001b[1;31m---------------------------------------------------------------------------\u001b[0m",
      "\u001b[1;31mValueError\u001b[0m                                Traceback (most recent call last)",
      "Cell \u001b[1;32mIn[6], line 3\u001b[0m\n\u001b[0;32m      1\u001b[0m \u001b[38;5;28;01mfor\u001b[39;00m i \u001b[38;5;129;01min\u001b[39;00m \u001b[38;5;28mrange\u001b[39m(\u001b[38;5;241m1\u001b[39m,\u001b[38;5;241m12\u001b[39m):\n\u001b[0;32m      2\u001b[0m     image_path \u001b[38;5;241m=\u001b[39m \u001b[38;5;124mf\u001b[39m\u001b[38;5;124m'\u001b[39m\u001b[38;5;124mTest cases\u001b[39m\u001b[38;5;130;01m\\\\\u001b[39;00m\u001b[38;5;132;01m{\u001b[39;00mi\u001b[38;5;132;01m}\u001b[39;00m\u001b[38;5;124m.jpg\u001b[39m\u001b[38;5;124m'\u001b[39m\n\u001b[1;32m----> 3\u001b[0m     \u001b[38;5;28;01mif\u001b[39;00m \u001b[43mdetect_salt_pepper\u001b[49m\u001b[43m(\u001b[49m\u001b[43mimage_path\u001b[49m\u001b[43m)\u001b[49m:\n\u001b[0;32m      4\u001b[0m         \u001b[38;5;28mprint\u001b[39m(\u001b[38;5;124mf\u001b[39m\u001b[38;5;124m\"\u001b[39m\u001b[38;5;132;01m{\u001b[39;00mi\u001b[38;5;132;01m}\u001b[39;00m\u001b[38;5;124m. The image has salt and pepper noise.\u001b[39m\u001b[38;5;124m\"\u001b[39m)\n\u001b[0;32m      5\u001b[0m         output_path \u001b[38;5;241m=\u001b[39m remove_salt_pepper(image_path, \u001b[38;5;124mf\u001b[39m\u001b[38;5;124m'\u001b[39m\u001b[38;5;124mTest cases\u001b[39m\u001b[38;5;130;01m\\\\\u001b[39;00m\u001b[38;5;132;01m{\u001b[39;00mi\u001b[38;5;132;01m}\u001b[39;00m\u001b[38;5;124m_after.jpg\u001b[39m\u001b[38;5;124m'\u001b[39m)\n",
      "Cell \u001b[1;32mIn[3], line 6\u001b[0m, in \u001b[0;36mdetect_salt_pepper\u001b[1;34m(image_path, edge_threshold, diff_threshold)\u001b[0m\n\u001b[0;32m      3\u001b[0m image \u001b[38;5;241m=\u001b[39m cv2\u001b[38;5;241m.\u001b[39mimread(image_path, cv2\u001b[38;5;241m.\u001b[39mIMREAD_GRAYSCALE)\n\u001b[0;32m      5\u001b[0m \u001b[38;5;28;01mif\u001b[39;00m image \u001b[38;5;129;01mis\u001b[39;00m \u001b[38;5;28;01mNone\u001b[39;00m:\n\u001b[1;32m----> 6\u001b[0m         \u001b[38;5;28;01mraise\u001b[39;00m \u001b[38;5;167;01mValueError\u001b[39;00m(\u001b[38;5;124m\"\u001b[39m\u001b[38;5;124mImage not found or unable to load.\u001b[39m\u001b[38;5;124m\"\u001b[39m)\n\u001b[0;32m      8\u001b[0m edges \u001b[38;5;241m=\u001b[39m cv2\u001b[38;5;241m.\u001b[39mLaplacian(image, cv2\u001b[38;5;241m.\u001b[39mCV_64F)\n\u001b[0;32m      9\u001b[0m edges \u001b[38;5;241m=\u001b[39m np\u001b[38;5;241m.\u001b[39mabs(edges)\n",
      "\u001b[1;31mValueError\u001b[0m: Image not found or unable to load."
     ]
    }
   ],
   "source": [
    "for i in range(1,12):\n",
    "    image_path = f'Test cases\\\\{i}.jpg'\n",
    "    if detect_salt_pepper(image_path):\n",
    "        print(f\"{i}. The image has salt and pepper noise.\")\n",
    "        output_path = remove_salt_pepper(image_path, f'Test cases\\\\{i}_after.jpg')\n",
    "        plot_images(image_path, output_path)"
   ]
  }
 ],
 "metadata": {
  "kernelspec": {
   "display_name": "Python 3",
   "language": "python",
   "name": "python3"
  },
  "language_info": {
   "codemirror_mode": {
    "name": "ipython",
    "version": 3
   },
   "file_extension": ".py",
   "mimetype": "text/x-python",
   "name": "python",
   "nbconvert_exporter": "python",
   "pygments_lexer": "ipython3",
   "version": "3.12.4"
  }
 },
 "nbformat": 4,
 "nbformat_minor": 2
}
