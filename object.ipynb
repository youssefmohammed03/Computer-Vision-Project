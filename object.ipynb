{
 "cells": [
  {
   "cell_type": "code",
   "execution_count": 276,
   "metadata": {},
   "outputs": [],
   "source": [
    "import cv2\n",
    "import numpy as np\n",
    "import matplotlib.pyplot as plt"
   ]
  },
  {
   "cell_type": "code",
   "execution_count": 277,
   "metadata": {},
   "outputs": [],
   "source": [
    "def fixing_object(image_path, threshold_value = 25):\n",
    "    image = cv2.imread(image_path, cv2.IMREAD_GRAYSCALE)\n",
    "\n",
    "    _, thresholded_image = cv2.threshold(image, threshold_value, 255, cv2.THRESH_BINARY)\n",
    "    cv2.imwrite('thresholded_image.jpg', thresholded_image)"
   ]
  },
  {
   "cell_type": "code",
   "execution_count": 278,
   "metadata": {},
   "outputs": [
    {
     "name": "stdout",
     "output_type": "stream",
     "text": [
      "3\n",
      "7\n",
      "11\n"
     ]
    }
   ],
   "source": [
    "def detect_interrupted_lines(image_path, gap_threshold=278):\n",
    "    image = cv2.imread(image_path, cv2.IMREAD_GRAYSCALE)\n",
    "    edges = cv2.Canny(image, 50, 150, apertureSize=3)\n",
    "    lines = cv2.HoughLinesP(edges, 1, np.pi/180, threshold=50, minLineLength=50, maxLineGap=gap_threshold)\n",
    "    if lines is None:\n",
    "        return False\n",
    "    lines = [line[0] for line in lines]\n",
    "    vertical_lines = sorted(lines, key=lambda x: x[0])\n",
    "    interrupted_lines = []\n",
    "    for i in range(1, len(vertical_lines)):\n",
    "        prev_line = vertical_lines[i - 1]\n",
    "        curr_line = vertical_lines[i]\n",
    "        if abs(curr_line[0] - prev_line[0]) < gap_threshold:\n",
    "            gap = curr_line[1] - prev_line[3]\n",
    "            if gap > gap_threshold:\n",
    "                interrupted_lines.append((prev_line, curr_line))\n",
    "    if interrupted_lines:\n",
    "        for pair in interrupted_lines:\n",
    "            pass\n",
    "        return True\n",
    "    else:\n",
    "        return False"
   ]
  }
 ],
 "metadata": {
  "kernelspec": {
   "display_name": "Python 3",
   "language": "python",
   "name": "python3"
  },
  "language_info": {
   "codemirror_mode": {
    "name": "ipython",
    "version": 3
   },
   "file_extension": ".py",
   "mimetype": "text/x-python",
   "name": "python",
   "nbconvert_exporter": "python",
   "pygments_lexer": "ipython3",
   "version": "3.12.4"
  }
 },
 "nbformat": 4,
 "nbformat_minor": 2
}
