{
 "cells": [
  {
   "cell_type": "code",
   "execution_count": 124,
   "metadata": {},
   "outputs": [],
   "source": [
    "import cv2\n",
    "import numpy as np\n",
    "\n",
    "def read_image(image_path):\n",
    "    \"\"\"Read the image from the specified path.\"\"\"\n",
    "    image = cv2.imread(image_path)\n",
    "    return image\n",
    "\n",
    "# Define the image path\n",
    "image_path = \"01 - lol easy.jpg\"\n",
    "    \n",
    "# Step 1: Read the image\n",
    "image = read_image(image_path)\n",
    "\n",
    "cv2.imshow(\"Read the image\", image)\n",
    "cv2.waitKey(0)\n",
    "cv2.destroyAllWindows()"
   ]
  },
  {
   "cell_type": "code",
   "execution_count": 125,
   "metadata": {},
   "outputs": [],
   "source": [
    "def convert_to_grayscale(image):\n",
    "    \"\"\"Convert the image to grayscale.\"\"\"\n",
    "    gray_image = cv2.cvtColor(image, cv2.COLOR_BGR2GRAY)\n",
    "    return gray_image\n",
    "\n",
    "# Step 2: Convert the image to grayscale\n",
    "gray_image = convert_to_grayscale(image)\n",
    "\n",
    "cv2.imshow(\"Grayscale image\", gray_image)\n",
    "cv2.waitKey(0)\n",
    "cv2.destroyAllWindows()"
   ]
  },
  {
   "cell_type": "code",
   "execution_count": 126,
   "metadata": {},
   "outputs": [],
   "source": [
    "def apply_threshold(gray_image):\n",
    "    \"\"\"Apply binary thresholding to highlight edges or areas of high contrast.\"\"\"\n",
    "    _, thresh_image = cv2.threshold(gray_image, 200, 255, cv2.THRESH_BINARY_INV)\n",
    "    return thresh_image\n",
    "\n",
    "# Step 3: Apply binary thresholding\n",
    "thresh_image = apply_threshold(gray_image)\n",
    "\n",
    "cv2.imshow(\"Binary Thresholding\", thresh_image)\n",
    "cv2.waitKey(0)\n",
    "cv2.destroyAllWindows()"
   ]
  },
  {
   "cell_type": "code",
   "execution_count": 127,
   "metadata": {},
   "outputs": [],
   "source": [
    "def sobel_edge_detection(thresh_image):\n",
    "    if thresh_image is None:\n",
    "        raise ValueError(\"Image not found or unable to read.\")\n",
    "\n",
    "    # Apply Sobel operator\n",
    "    sobel_x = cv2.Sobel(thresh_image, cv2.CV_64F, 1, 0, ksize=3)  # Sobel in x direction\n",
    "    sobel_y = cv2.Sobel(thresh_image, cv2.CV_64F, 0, 1, ksize=3)  # Sobel in y direction\n",
    "\n",
    "    # Calculate the magnitude of the gradients\n",
    "    sobel_magnitude = np.sqrt(sobel_x**2 + sobel_y**2)\n",
    "    \n",
    "    # Convert to uint8\n",
    "    sobel_magnitude = np.uint8(np.clip(sobel_magnitude, 0, 255))\n",
    "\n",
    "    return sobel_magnitude\n",
    "\n",
    "# Step 4: Apply sobel edge detection\n",
    "sobel_magnitude = sobel_edge_detection(thresh_image)\n",
    "\n",
    "cv2.imshow(\"Binary Thresholding\", sobel_magnitude)\n",
    "cv2.waitKey(0)\n",
    "cv2.destroyAllWindows()"
   ]
  },
  {
   "cell_type": "code",
   "execution_count": 128,
   "metadata": {},
   "outputs": [],
   "source": [
    "def find_contours(sobel_magnitude):\n",
    "    contours, hierarchy = cv2.findContours(sobel_magnitude, cv2.RETR_EXTERNAL, cv2.CHAIN_APPROX_SIMPLE)\n",
    "    return contours, hierarchy\n",
    "\n",
    "contours, hierarchy = cv2.findContours(sobel_magnitude, cv2.RETR_TREE, cv2.CHAIN_APPROX_SIMPLE)\n",
    "\n",
    "# Draw contours on the original image\n",
    "contour_image = image.copy()\n",
    "cv2.drawContours(contour_image, contours, -1, (0, 255, 0), 2)  # Draw all contours in green\n",
    "\n",
    "# Display the original image and the contour image\n",
    "cv2.imshow('Contours', contour_image)\n",
    "cv2.waitKey(0)\n",
    "cv2.destroyAllWindows()"
   ]
  },
  {
   "cell_type": "code",
   "execution_count": 129,
   "metadata": {},
   "outputs": [],
   "source": [
    "def is_straight_line(contour):\n",
    "    # A contour is considered a straight line if it has only two points or if the approximation is close to a line\n",
    "    epsilon = 0.05 * cv2.arcLength(contour, True)  # Increased epsilon value\n",
    "    approx = cv2.approxPolyDP(contour, epsilon, True)\n",
    "    return len(approx) == 2"
   ]
  },
  {
   "cell_type": "code",
   "execution_count": 130,
   "metadata": {},
   "outputs": [],
   "source": [
    "def approximate_contour(contour, epsilon_factor=0.02):\n",
    "    \"\"\"Approximate a contour using the Douglas-Peucker algorithm.\"\"\"\n",
    "    # Calculate the perimeter of the contour\n",
    "    perimeter = cv2.arcLength(contour, True)\n",
    "\n",
    "    # Calculate epsilon based on the perimeter and the specified factor\n",
    "    epsilon = epsilon_factor * perimeter\n",
    "\n",
    "    # Approximate the contour\n",
    "    approx_contour = cv2.approxPolyDP(contour, epsilon, True)\n",
    "\n",
    "    return approx_contour"
   ]
  },
  {
   "cell_type": "code",
   "execution_count": 131,
   "metadata": {},
   "outputs": [],
   "source": [
    "def are_all_contours_straight_lines(contours):\n",
    "    \"\"\"Check if all contours are straight lines.\"\"\"\n",
    "    return all(is_straight_line(contour) for contour in contours)"
   ]
  },
  {
   "cell_type": "code",
   "execution_count": 132,
   "metadata": {},
   "outputs": [
    {
     "name": "stdout",
     "output_type": "stream",
     "text": [
      "Not all contours are straight lines. Proceeding with approximate_contour.\n"
     ]
    }
   ],
   "source": [
    "# Step 7: Handle contours based on their shape\n",
    "if are_all_contours_straight_lines(contours):\n",
    "    print(\"All contours are straight lines. Proceeding with contour_detection.\")\n",
    "    processed_contours = contours  # You can call your contour_detection function here if needed\n",
    "else:\n",
    "    print(\"Not all contours are straight lines. Proceeding with approximate_contour.\")\n",
    "    processed_contours = [approximate_contour(contour) for contour in contours]\n",
    "\n",
    "# Final Step: Display the processed contours\n",
    "for contour in processed_contours:\n",
    "    cv2.drawContours(image, [contour], -1, (0, 255, 0), 2)\n",
    "\n",
    "cv2.imshow(\"Processed Contours\", image)\n",
    "cv2.waitKey(0)\n",
    "cv2.destroyAllWindows()"
   ]
  },
  {
   "cell_type": "code",
   "execution_count": 133,
   "metadata": {},
   "outputs": [
    {
     "name": "stdout",
     "output_type": "stream",
     "text": [
      "Number of filtered contours: 35\n"
     ]
    }
   ],
   "source": [
    "def filter_contours(contours, min_area=100, max_area=10000, min_perimeter=50):\n",
    "    \"\"\"Filter contours based on area and perimeter.\"\"\"\n",
    "    filtered_contours = []\n",
    "    for contour in contours:\n",
    "        area = cv2.contourArea(contour)\n",
    "        perimeter = cv2.arcLength(contour, True)\n",
    "        \n",
    "        if (min_area < area < max_area) and (perimeter > min_perimeter):\n",
    "            filtered_contours.append(contour)\n",
    "    return filtered_contours\n",
    "\n",
    "# Filter the contours based on area and perimeter\n",
    "filtered_contours = filter_contours(approximated_contours, min_area=100, max_area=5000, min_perimeter=50)\n",
    "print(f\"Number of filtered contours: {len(filtered_contours)}\")\n",
    "\n",
    "cv2.imshow('Filtered Contours', contour_image)\n",
    "cv2.waitKey(0)\n",
    "cv2.destroyAllWindows()\n"
   ]
  },
  {
   "cell_type": "code",
   "execution_count": 134,
   "metadata": {},
   "outputs": [],
   "source": [
    "def draw_detected_rectangles(image, barcode_rects):\n",
    "    \"\"\"Draw the detected rectangles for visualization.\"\"\"\n",
    "    for rect in barcode_rects:\n",
    "        cv2.polylines(image, [rect], isClosed=True, color=(0, 255, 0), thickness=2)\n",
    "    \n",
    "    rectangular_image = image\n",
    "    return rectangular_image"
   ]
  },
  {
   "cell_type": "code",
   "execution_count": 135,
   "metadata": {},
   "outputs": [],
   "source": [
    "def extract_roi(image, barcode_rects):\n",
    "    \"\"\"Extract the region of interest (ROI) to crop the region out for further processing.\"\"\"\n",
    "    rois = []\n",
    "    for rect in barcode_rects:\n",
    "        x, y, w, h = cv2.boundingRect(rect)\n",
    "        roi = image[y:y + h, x:x + w]\n",
    "        rois.append(roi)\n",
    "    return rois"
   ]
  },
  {
   "cell_type": "code",
   "execution_count": 136,
   "metadata": {},
   "outputs": [
    {
     "ename": "error",
     "evalue": "OpenCV(4.10.0) :-1: error: (-5:Bad argument) in function 'imshow'\n> Overload resolution failed:\n>  - mat is not a numpy array, neither a scalar\n>  - Expected Ptr<cv::cuda::GpuMat> for argument 'mat'\n>  - Expected Ptr<cv::UMat> for argument 'mat'\n",
     "output_type": "error",
     "traceback": [
      "\u001b[1;31m---------------------------------------------------------------------------\u001b[0m",
      "\u001b[1;31merror\u001b[0m                                     Traceback (most recent call last)",
      "Cell \u001b[1;32mIn[136], line 4\u001b[0m\n\u001b[0;32m      1\u001b[0m \u001b[38;5;66;03m# Step 5: Approximate contours\u001b[39;00m\n\u001b[0;32m      2\u001b[0m barcode_rects \u001b[38;5;241m=\u001b[39m approximate_contours(contours)\n\u001b[1;32m----> 4\u001b[0m \u001b[43mcv2\u001b[49m\u001b[38;5;241;43m.\u001b[39;49m\u001b[43mimshow\u001b[49m\u001b[43m(\u001b[49m\u001b[38;5;124;43m\"\u001b[39;49m\u001b[38;5;124;43mApproximate Contours\u001b[39;49m\u001b[38;5;124;43m\"\u001b[39;49m\u001b[43m,\u001b[49m\u001b[43m \u001b[49m\u001b[43mbarcode_rects\u001b[49m\u001b[43m)\u001b[49m\n\u001b[0;32m      5\u001b[0m cv2\u001b[38;5;241m.\u001b[39mwaitKey(\u001b[38;5;241m0\u001b[39m)\n\u001b[0;32m      6\u001b[0m cv2\u001b[38;5;241m.\u001b[39mdestroyAllWindows()\n",
      "\u001b[1;31merror\u001b[0m: OpenCV(4.10.0) :-1: error: (-5:Bad argument) in function 'imshow'\n> Overload resolution failed:\n>  - mat is not a numpy array, neither a scalar\n>  - Expected Ptr<cv::cuda::GpuMat> for argument 'mat'\n>  - Expected Ptr<cv::UMat> for argument 'mat'\n"
     ]
    }
   ],
   "source": [
    "# Step 5: Approximate contours\n",
    "barcode_rects = approximate_contours(contours)\n",
    "\n",
    "cv2.imshow(\"Approximate Contours\", barcode_rects)\n",
    "cv2.waitKey(0)\n",
    "cv2.destroyAllWindows()\n",
    "    \n",
    "# Step 6: Draw the detected rectangles\n",
    "image_with_rectangles = draw_detected_rectangles(image, barcode_rects)\n",
    "\n",
    "cv2.imshow(\"detected rectangles\", image_with_rectangles)\n",
    "cv2.waitKey(0)\n",
    "cv2.destroyAllWindows()"
   ]
  },
  {
   "cell_type": "code",
   "execution_count": null,
   "metadata": {},
   "outputs": [],
   "source": [
    "# Step 7: Extract the region of interest (ROI)\n",
    "rois = extract_roi(image, barcode_rects)\n",
    "\n",
    "cv2.imshow(\"ROI\", rois)\n",
    "cv2.waitKey(0)\n",
    "cv2.destroyAllWindows()\n",
    "    \n",
    "# Display the results\n",
    "#cv2.imshow(\"Detected Barcodes\", image_with_rectangles)\n",
    "#for i, roi in enumerate(rois):\n",
    "#    cv2.imshow(f\"ROI {i + 1}\", roi)\n",
    "    \n",
    "#cv2.waitKey(0)\n",
    "#cv2.destroyAllWindows()"
   ]
  }
 ],
 "metadata": {
  "kernelspec": {
   "display_name": "Python 3",
   "language": "python",
   "name": "python3"
  },
  "language_info": {
   "codemirror_mode": {
    "name": "ipython",
    "version": 3
   },
   "file_extension": ".py",
   "mimetype": "text/x-python",
   "name": "python",
   "nbconvert_exporter": "python",
   "pygments_lexer": "ipython3",
   "version": "3.13.0"
  }
 },
 "nbformat": 4,
 "nbformat_minor": 2
}
