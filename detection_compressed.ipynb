{
 "cells": [
  {
   "cell_type": "code",
   "execution_count": 53,
   "metadata": {},
   "outputs": [],
   "source": [
    "import cv2\n",
    "import numpy as np\n",
    "import matplotlib.pyplot as plt"
   ]
  },
  {
   "cell_type": "code",
   "execution_count": 54,
   "metadata": {},
   "outputs": [
    {
     "name": "stdout",
     "output_type": "stream",
     "text": [
      "480000\n",
      "480000\n",
      "480000\n",
      "480000\n",
      "480000\n",
      "480000\n",
      "480000\n",
      "480000\n",
      "480000\n",
      "480000\n",
      "480000\n"
     ]
    }
   ],
   "source": [
    "def detection_compressed(image_path):\n",
    "    image = cv2.imread(image_path, cv2.IMREAD_GRAYSCALE)\n",
    "    if image is None:\n",
    "        raise ValueError(\"Image not found or unable to load.\")\n",
    "    image_size = image.shape[0] * image.shape[1]\n",
    "    print(image_size)\n",
    "    if image_size < 1000:\n",
    "        return True\n",
    "    else:\n",
    "        return False\n",
    "    \n",
    "\n",
    "for i in range(1,12):\n",
    "    image_path = f'Test case\\\\{i}.jpg'\n",
    "    if detection_compressed(image_path):\n",
    "        print(f\"{i}. The image has salt and pepper noise.\")\n"
   ]
  }
 ],
 "metadata": {
  "kernelspec": {
   "display_name": "Python 3",
   "language": "python",
   "name": "python3"
  },
  "language_info": {
   "codemirror_mode": {
    "name": "ipython",
    "version": 3
   },
   "file_extension": ".py",
   "mimetype": "text/x-python",
   "name": "python",
   "nbconvert_exporter": "python",
   "pygments_lexer": "ipython3",
   "version": "3.12.4"
  }
 },
 "nbformat": 4,
 "nbformat_minor": 2
}
