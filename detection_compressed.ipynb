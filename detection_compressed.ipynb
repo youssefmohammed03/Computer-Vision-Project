{
 "cells": [
  {
   "cell_type": "code",
   "execution_count": 48,
   "metadata": {},
   "outputs": [],
   "source": [
    "import cv2\n",
    "import numpy as np\n",
    "import matplotlib.pyplot as plt\n",
    "import os\n",
    "from PIL import Image, ImageFilter"
   ]
  },
  {
   "cell_type": "code",
   "execution_count": 49,
   "metadata": {},
   "outputs": [],
   "source": [
    "def detection_compressed(image_path):\n",
    "    size = os.path.getsize(image_path)\n",
    "    if size < 15000:\n",
    "        return True\n",
    "    else:\n",
    "        return False\n",
    "\n",
    "def fixing_compression(image_path): \n",
    "    image = Image.open(image_path)\n",
    "    sharpened_image = image.filter(ImageFilter.SHARPEN)\n",
    "    sharpened_image_cv = cv2.cvtColor(np.array(sharpened_image), cv2.COLOR_RGB2BGR)\n",
    "    gray_image = cv2.cvtColor(sharpened_image_cv, cv2.COLOR_BGR2GRAY)\n",
    "    _, binary_image = cv2.threshold(gray_image, 0, 255, cv2.THRESH_BINARY + cv2.THRESH_OTSU)\n",
    "    cv2.imwrite('output\\\\8.jpg', binary_image)\n",
    "\n",
    "fixing_compression('test cases\\\\08 - compresso espresso.jpg')"
   ]
  }
 ],
 "metadata": {
  "kernelspec": {
   "display_name": "Python 3",
   "language": "python",
   "name": "python3"
  },
  "language_info": {
   "codemirror_mode": {
    "name": "ipython",
    "version": 3
   },
   "file_extension": ".py",
   "mimetype": "text/x-python",
   "name": "python",
   "nbconvert_exporter": "python",
   "pygments_lexer": "ipython3",
   "version": "3.12.4"
  }
 },
 "nbformat": 4,
 "nbformat_minor": 2
}
